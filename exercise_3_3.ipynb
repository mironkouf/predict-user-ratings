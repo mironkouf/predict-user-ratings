{
 "cells": [
  {
   "cell_type": "code",
   "execution_count": 6,
   "id": "a405ab27",
   "metadata": {},
   "outputs": [],
   "source": [
    "import pandas as pd\n",
    "import numpy as np\n",
    "import json\n",
    "import networkx as nx\n",
    "import matplotlib.pyplot as plt\n",
    "from sklearn.metrics import mean_squared_error\n",
    "import math\n",
    "import time"
   ]
  },
  {
   "cell_type": "markdown",
   "id": "43b24343",
   "metadata": {},
   "source": [
    "# Step 1"
   ]
  },
  {
   "cell_type": "code",
   "execution_count": 7,
   "id": "3f17dbc1",
   "metadata": {},
   "outputs": [
    {
     "name": "stdout",
     "output_type": "stream",
     "text": [
      "(967552, 3)\n"
     ]
    },
    {
     "data": {
      "text/html": [
       "<div>\n",
       "<style scoped>\n",
       "    .dataframe tbody tr th:only-of-type {\n",
       "        vertical-align: middle;\n",
       "    }\n",
       "\n",
       "    .dataframe tbody tr th {\n",
       "        vertical-align: top;\n",
       "    }\n",
       "\n",
       "    .dataframe thead th {\n",
       "        text-align: right;\n",
       "    }\n",
       "</style>\n",
       "<table border=\"1\" class=\"dataframe\">\n",
       "  <thead>\n",
       "    <tr style=\"text-align: right;\">\n",
       "      <th></th>\n",
       "      <th>user_id</th>\n",
       "      <th>business_id</th>\n",
       "      <th>stars</th>\n",
       "    </tr>\n",
       "  </thead>\n",
       "  <tbody>\n",
       "    <tr>\n",
       "      <th>0</th>\n",
       "      <td>OyoGAe7OKpv6SyGZT5g77Q</td>\n",
       "      <td>7ATYjTIgM3jUlt4UM3IypQ</td>\n",
       "      <td>5.0</td>\n",
       "    </tr>\n",
       "    <tr>\n",
       "      <th>1</th>\n",
       "      <td>_7bHUi9Uuf5__HHc_Q8guQ</td>\n",
       "      <td>kxX2SOes4o-D3ZQBkiMRfA</td>\n",
       "      <td>5.0</td>\n",
       "    </tr>\n",
       "    <tr>\n",
       "      <th>2</th>\n",
       "      <td>eUta8W_HdHMXPzLBBZhL1A</td>\n",
       "      <td>04UD14gamNjLY0IDYVhHJg</td>\n",
       "      <td>1.0</td>\n",
       "    </tr>\n",
       "    <tr>\n",
       "      <th>3</th>\n",
       "      <td>smOvOajNG0lS4Pq7d8g4JQ</td>\n",
       "      <td>RZtGWDLCAtuipwaZ-UfjmQ</td>\n",
       "      <td>4.0</td>\n",
       "    </tr>\n",
       "    <tr>\n",
       "      <th>4</th>\n",
       "      <td>Dd1jQj7S-BFGqRbApFzCFw</td>\n",
       "      <td>YtSqYv1Q_pOltsVPSx54SA</td>\n",
       "      <td>5.0</td>\n",
       "    </tr>\n",
       "  </tbody>\n",
       "</table>\n",
       "</div>"
      ],
      "text/plain": [
       "                  user_id             business_id  stars\n",
       "0  OyoGAe7OKpv6SyGZT5g77Q  7ATYjTIgM3jUlt4UM3IypQ    5.0\n",
       "1  _7bHUi9Uuf5__HHc_Q8guQ  kxX2SOes4o-D3ZQBkiMRfA    5.0\n",
       "2  eUta8W_HdHMXPzLBBZhL1A  04UD14gamNjLY0IDYVhHJg    1.0\n",
       "3  smOvOajNG0lS4Pq7d8g4JQ  RZtGWDLCAtuipwaZ-UfjmQ    4.0\n",
       "4  Dd1jQj7S-BFGqRbApFzCFw  YtSqYv1Q_pOltsVPSx54SA    5.0"
      ]
     },
     "execution_count": 7,
     "metadata": {},
     "output_type": "execute_result"
    }
   ],
   "source": [
    "# load csv for all businesses\n",
    "df_u_b_s = pd.read_csv('philly_users_businesses_stars.csv')\n",
    "print(df_u_b_s.shape)\n",
    "df_u_b_s.head()"
   ]
  },
  {
   "cell_type": "code",
   "execution_count": 8,
   "id": "9ef3fea4",
   "metadata": {},
   "outputs": [
    {
     "name": "stdout",
     "output_type": "stream",
     "text": [
      "(101923, 3)\n"
     ]
    },
    {
     "data": {
      "text/html": [
       "<div>\n",
       "<style scoped>\n",
       "    .dataframe tbody tr th:only-of-type {\n",
       "        vertical-align: middle;\n",
       "    }\n",
       "\n",
       "    .dataframe tbody tr th {\n",
       "        vertical-align: top;\n",
       "    }\n",
       "\n",
       "    .dataframe thead th {\n",
       "        text-align: right;\n",
       "    }\n",
       "</style>\n",
       "<table border=\"1\" class=\"dataframe\">\n",
       "  <thead>\n",
       "    <tr style=\"text-align: right;\">\n",
       "      <th></th>\n",
       "      <th>user_id</th>\n",
       "      <th>business_id</th>\n",
       "      <th>stars</th>\n",
       "    </tr>\n",
       "  </thead>\n",
       "  <tbody>\n",
       "    <tr>\n",
       "      <th>0</th>\n",
       "      <td>smOvOajNG0lS4Pq7d8g4JQ</td>\n",
       "      <td>RZtGWDLCAtuipwaZ-UfjmQ</td>\n",
       "      <td>4.0</td>\n",
       "    </tr>\n",
       "    <tr>\n",
       "      <th>1</th>\n",
       "      <td>Zs8Zk3sgh5JxRmoZW4PJcg</td>\n",
       "      <td>RZtGWDLCAtuipwaZ-UfjmQ</td>\n",
       "      <td>3.0</td>\n",
       "    </tr>\n",
       "    <tr>\n",
       "      <th>2</th>\n",
       "      <td>jK_SY5ciS1IL82Cf3Ed1_w</td>\n",
       "      <td>RZtGWDLCAtuipwaZ-UfjmQ</td>\n",
       "      <td>4.0</td>\n",
       "    </tr>\n",
       "    <tr>\n",
       "      <th>3</th>\n",
       "      <td>V9n2Qyr-dvNg00BwMWqquQ</td>\n",
       "      <td>RZtGWDLCAtuipwaZ-UfjmQ</td>\n",
       "      <td>3.0</td>\n",
       "    </tr>\n",
       "    <tr>\n",
       "      <th>4</th>\n",
       "      <td>jYknm57qpeZzTueiVIYTOA</td>\n",
       "      <td>RZtGWDLCAtuipwaZ-UfjmQ</td>\n",
       "      <td>4.0</td>\n",
       "    </tr>\n",
       "  </tbody>\n",
       "</table>\n",
       "</div>"
      ],
      "text/plain": [
       "                  user_id             business_id  stars\n",
       "0  smOvOajNG0lS4Pq7d8g4JQ  RZtGWDLCAtuipwaZ-UfjmQ    4.0\n",
       "1  Zs8Zk3sgh5JxRmoZW4PJcg  RZtGWDLCAtuipwaZ-UfjmQ    3.0\n",
       "2  jK_SY5ciS1IL82Cf3Ed1_w  RZtGWDLCAtuipwaZ-UfjmQ    4.0\n",
       "3  V9n2Qyr-dvNg00BwMWqquQ  RZtGWDLCAtuipwaZ-UfjmQ    3.0\n",
       "4  jYknm57qpeZzTueiVIYTOA  RZtGWDLCAtuipwaZ-UfjmQ    4.0"
      ]
     },
     "execution_count": 8,
     "metadata": {},
     "output_type": "execute_result"
    }
   ],
   "source": [
    "# every user has at least 30 reviews for the existing businesses\n",
    "# every business has at least 50 reviews from the existing users\n",
    "while(True):\n",
    "    # xrhstes pou exoun bathmologhsei perissoteres apo 30 epixeirhseis\n",
    "    df_user_30 = df_u_b_s.groupby('user_id').agg('count').reset_index()\n",
    "    df_user_30 = df_user_30[df_user_30['business_id'] > 30]\n",
    "    # merge\n",
    "    df_temp_50 = df_u_b_s.merge(df_user_30['user_id'],how='inner')\n",
    "    # epixeirhseis pou exoun bathmologithei apo perissoterous apo 50 xrhstes\n",
    "    df_bus_50 = df_temp_50.groupby('business_id').agg('count').reset_index()\n",
    "    df_bus_50 = df_bus_50[df_bus_50['user_id'] > 50]\n",
    "    # merge\n",
    "    df_u_b_s = df_temp_50.merge(df_bus_50['business_id'],how='inner')\n",
    "    if len(df_u_b_s) == len(df_temp_50): #df_15.shape == (302141,3)\n",
    "        break\n",
    "print(df_u_b_s.shape)\n",
    "df_u_b_s.head()"
   ]
  },
  {
   "cell_type": "code",
   "execution_count": 9,
   "id": "f57d66b2",
   "metadata": {},
   "outputs": [
    {
     "name": "stdout",
     "output_type": "stream",
     "text": [
      "users :  1604\n",
      "business :  887\n"
     ]
    }
   ],
   "source": [
    "print('users : ',df_u_b_s['user_id'].nunique())\n",
    "print('business : ',df_u_b_s['business_id'].nunique())"
   ]
  },
  {
   "cell_type": "code",
   "execution_count": 10,
   "id": "77550fb6",
   "metadata": {},
   "outputs": [
    {
     "name": "stdout",
     "output_type": "stream",
     "text": [
      "(101923, 24)\n"
     ]
    },
    {
     "data": {
      "text/html": [
       "<div>\n",
       "<style scoped>\n",
       "    .dataframe tbody tr th:only-of-type {\n",
       "        vertical-align: middle;\n",
       "    }\n",
       "\n",
       "    .dataframe tbody tr th {\n",
       "        vertical-align: top;\n",
       "    }\n",
       "\n",
       "    .dataframe thead th {\n",
       "        text-align: right;\n",
       "    }\n",
       "</style>\n",
       "<table border=\"1\" class=\"dataframe\">\n",
       "  <thead>\n",
       "    <tr style=\"text-align: right;\">\n",
       "      <th></th>\n",
       "      <th>user_id</th>\n",
       "      <th>business_id</th>\n",
       "      <th>stars</th>\n",
       "      <th>name</th>\n",
       "      <th>review_count</th>\n",
       "      <th>yelping_since</th>\n",
       "      <th>useful</th>\n",
       "      <th>funny</th>\n",
       "      <th>cool</th>\n",
       "      <th>elite</th>\n",
       "      <th>...</th>\n",
       "      <th>compliment_more</th>\n",
       "      <th>compliment_profile</th>\n",
       "      <th>compliment_cute</th>\n",
       "      <th>compliment_list</th>\n",
       "      <th>compliment_note</th>\n",
       "      <th>compliment_plain</th>\n",
       "      <th>compliment_cool</th>\n",
       "      <th>compliment_funny</th>\n",
       "      <th>compliment_writer</th>\n",
       "      <th>compliment_photos</th>\n",
       "    </tr>\n",
       "  </thead>\n",
       "  <tbody>\n",
       "    <tr>\n",
       "      <th>0</th>\n",
       "      <td>smOvOajNG0lS4Pq7d8g4JQ</td>\n",
       "      <td>RZtGWDLCAtuipwaZ-UfjmQ</td>\n",
       "      <td>4.0</td>\n",
       "      <td>Meg</td>\n",
       "      <td>176</td>\n",
       "      <td>2009-09-28 01:53:09</td>\n",
       "      <td>120</td>\n",
       "      <td>32</td>\n",
       "      <td>29</td>\n",
       "      <td></td>\n",
       "      <td>...</td>\n",
       "      <td>0</td>\n",
       "      <td>0</td>\n",
       "      <td>1</td>\n",
       "      <td>0</td>\n",
       "      <td>3</td>\n",
       "      <td>2</td>\n",
       "      <td>1</td>\n",
       "      <td>1</td>\n",
       "      <td>0</td>\n",
       "      <td>0</td>\n",
       "    </tr>\n",
       "    <tr>\n",
       "      <th>1</th>\n",
       "      <td>smOvOajNG0lS4Pq7d8g4JQ</td>\n",
       "      <td>4_W5pstoN1166TGjjPOrMg</td>\n",
       "      <td>4.0</td>\n",
       "      <td>Meg</td>\n",
       "      <td>176</td>\n",
       "      <td>2009-09-28 01:53:09</td>\n",
       "      <td>120</td>\n",
       "      <td>32</td>\n",
       "      <td>29</td>\n",
       "      <td></td>\n",
       "      <td>...</td>\n",
       "      <td>0</td>\n",
       "      <td>0</td>\n",
       "      <td>1</td>\n",
       "      <td>0</td>\n",
       "      <td>3</td>\n",
       "      <td>2</td>\n",
       "      <td>1</td>\n",
       "      <td>1</td>\n",
       "      <td>0</td>\n",
       "      <td>0</td>\n",
       "    </tr>\n",
       "    <tr>\n",
       "      <th>2</th>\n",
       "      <td>smOvOajNG0lS4Pq7d8g4JQ</td>\n",
       "      <td>mUIBtlWNPD7sz3rGGWQ1RA</td>\n",
       "      <td>3.0</td>\n",
       "      <td>Meg</td>\n",
       "      <td>176</td>\n",
       "      <td>2009-09-28 01:53:09</td>\n",
       "      <td>120</td>\n",
       "      <td>32</td>\n",
       "      <td>29</td>\n",
       "      <td></td>\n",
       "      <td>...</td>\n",
       "      <td>0</td>\n",
       "      <td>0</td>\n",
       "      <td>1</td>\n",
       "      <td>0</td>\n",
       "      <td>3</td>\n",
       "      <td>2</td>\n",
       "      <td>1</td>\n",
       "      <td>1</td>\n",
       "      <td>0</td>\n",
       "      <td>0</td>\n",
       "    </tr>\n",
       "    <tr>\n",
       "      <th>3</th>\n",
       "      <td>smOvOajNG0lS4Pq7d8g4JQ</td>\n",
       "      <td>0-JRAY0LpBazDuA9761U5w</td>\n",
       "      <td>2.0</td>\n",
       "      <td>Meg</td>\n",
       "      <td>176</td>\n",
       "      <td>2009-09-28 01:53:09</td>\n",
       "      <td>120</td>\n",
       "      <td>32</td>\n",
       "      <td>29</td>\n",
       "      <td></td>\n",
       "      <td>...</td>\n",
       "      <td>0</td>\n",
       "      <td>0</td>\n",
       "      <td>1</td>\n",
       "      <td>0</td>\n",
       "      <td>3</td>\n",
       "      <td>2</td>\n",
       "      <td>1</td>\n",
       "      <td>1</td>\n",
       "      <td>0</td>\n",
       "      <td>0</td>\n",
       "    </tr>\n",
       "    <tr>\n",
       "      <th>4</th>\n",
       "      <td>smOvOajNG0lS4Pq7d8g4JQ</td>\n",
       "      <td>YqmClmk7oLcDzPWKHzgA-Q</td>\n",
       "      <td>4.0</td>\n",
       "      <td>Meg</td>\n",
       "      <td>176</td>\n",
       "      <td>2009-09-28 01:53:09</td>\n",
       "      <td>120</td>\n",
       "      <td>32</td>\n",
       "      <td>29</td>\n",
       "      <td></td>\n",
       "      <td>...</td>\n",
       "      <td>0</td>\n",
       "      <td>0</td>\n",
       "      <td>1</td>\n",
       "      <td>0</td>\n",
       "      <td>3</td>\n",
       "      <td>2</td>\n",
       "      <td>1</td>\n",
       "      <td>1</td>\n",
       "      <td>0</td>\n",
       "      <td>0</td>\n",
       "    </tr>\n",
       "  </tbody>\n",
       "</table>\n",
       "<p>5 rows × 24 columns</p>\n",
       "</div>"
      ],
      "text/plain": [
       "                  user_id             business_id  stars name  review_count  \\\n",
       "0  smOvOajNG0lS4Pq7d8g4JQ  RZtGWDLCAtuipwaZ-UfjmQ    4.0  Meg           176   \n",
       "1  smOvOajNG0lS4Pq7d8g4JQ  4_W5pstoN1166TGjjPOrMg    4.0  Meg           176   \n",
       "2  smOvOajNG0lS4Pq7d8g4JQ  mUIBtlWNPD7sz3rGGWQ1RA    3.0  Meg           176   \n",
       "3  smOvOajNG0lS4Pq7d8g4JQ  0-JRAY0LpBazDuA9761U5w    2.0  Meg           176   \n",
       "4  smOvOajNG0lS4Pq7d8g4JQ  YqmClmk7oLcDzPWKHzgA-Q    4.0  Meg           176   \n",
       "\n",
       "         yelping_since  useful  funny  cool elite  ... compliment_more  \\\n",
       "0  2009-09-28 01:53:09     120     32    29        ...               0   \n",
       "1  2009-09-28 01:53:09     120     32    29        ...               0   \n",
       "2  2009-09-28 01:53:09     120     32    29        ...               0   \n",
       "3  2009-09-28 01:53:09     120     32    29        ...               0   \n",
       "4  2009-09-28 01:53:09     120     32    29        ...               0   \n",
       "\n",
       "   compliment_profile  compliment_cute  compliment_list  compliment_note  \\\n",
       "0                   0                1                0                3   \n",
       "1                   0                1                0                3   \n",
       "2                   0                1                0                3   \n",
       "3                   0                1                0                3   \n",
       "4                   0                1                0                3   \n",
       "\n",
       "   compliment_plain  compliment_cool  compliment_funny  compliment_writer  \\\n",
       "0                 2                1                 1                  0   \n",
       "1                 2                1                 1                  0   \n",
       "2                 2                1                 1                  0   \n",
       "3                 2                1                 1                  0   \n",
       "4                 2                1                 1                  0   \n",
       "\n",
       "   compliment_photos  \n",
       "0                  0  \n",
       "1                  0  \n",
       "2                  0  \n",
       "3                  0  \n",
       "4                  0  \n",
       "\n",
       "[5 rows x 24 columns]"
      ]
     },
     "execution_count": 10,
     "metadata": {},
     "output_type": "execute_result"
    }
   ],
   "source": [
    "size = 100000\n",
    "users = pd.read_json('yelp_academic_dataset_user.json', lines=True, chunksize=size)\n",
    "\n",
    "chunk_list = []\n",
    "for chunk_review in users:\n",
    "    chunk_merged = pd.merge(df_u_b_s,chunk_review, on = 'user_id',how='inner') # merge with the same business_id(their key)\n",
    "    chunk_list.append(chunk_merged)\n",
    "df_users = pd.concat(chunk_list, ignore_index=True, join='outer', axis=0)\n",
    "print(df_users.shape)\n",
    "df_users.head()"
   ]
  },
  {
   "cell_type": "code",
   "execution_count": 11,
   "id": "aeee0263",
   "metadata": {},
   "outputs": [],
   "source": [
    "# CONVERT NEW DATA FRAME into a CSV file for easy retrieval\n",
    "csv_name = \"philly_users_30_50.csv\"\n",
    "df_users.to_csv(csv_name, index=False)"
   ]
  },
  {
   "cell_type": "code",
   "execution_count": 12,
   "id": "b27eaab7",
   "metadata": {},
   "outputs": [
    {
     "name": "stdout",
     "output_type": "stream",
     "text": [
      "(101923, 24)\n"
     ]
    },
    {
     "data": {
      "text/html": [
       "<div>\n",
       "<style scoped>\n",
       "    .dataframe tbody tr th:only-of-type {\n",
       "        vertical-align: middle;\n",
       "    }\n",
       "\n",
       "    .dataframe tbody tr th {\n",
       "        vertical-align: top;\n",
       "    }\n",
       "\n",
       "    .dataframe thead th {\n",
       "        text-align: right;\n",
       "    }\n",
       "</style>\n",
       "<table border=\"1\" class=\"dataframe\">\n",
       "  <thead>\n",
       "    <tr style=\"text-align: right;\">\n",
       "      <th></th>\n",
       "      <th>user_id</th>\n",
       "      <th>business_id</th>\n",
       "      <th>stars</th>\n",
       "      <th>name</th>\n",
       "      <th>review_count</th>\n",
       "      <th>yelping_since</th>\n",
       "      <th>useful</th>\n",
       "      <th>funny</th>\n",
       "      <th>cool</th>\n",
       "      <th>elite</th>\n",
       "      <th>...</th>\n",
       "      <th>compliment_more</th>\n",
       "      <th>compliment_profile</th>\n",
       "      <th>compliment_cute</th>\n",
       "      <th>compliment_list</th>\n",
       "      <th>compliment_note</th>\n",
       "      <th>compliment_plain</th>\n",
       "      <th>compliment_cool</th>\n",
       "      <th>compliment_funny</th>\n",
       "      <th>compliment_writer</th>\n",
       "      <th>compliment_photos</th>\n",
       "    </tr>\n",
       "  </thead>\n",
       "  <tbody>\n",
       "    <tr>\n",
       "      <th>0</th>\n",
       "      <td>smOvOajNG0lS4Pq7d8g4JQ</td>\n",
       "      <td>RZtGWDLCAtuipwaZ-UfjmQ</td>\n",
       "      <td>4.0</td>\n",
       "      <td>Meg</td>\n",
       "      <td>176</td>\n",
       "      <td>2009-09-28 01:53:09</td>\n",
       "      <td>120</td>\n",
       "      <td>32</td>\n",
       "      <td>29</td>\n",
       "      <td>NaN</td>\n",
       "      <td>...</td>\n",
       "      <td>0</td>\n",
       "      <td>0</td>\n",
       "      <td>1</td>\n",
       "      <td>0</td>\n",
       "      <td>3</td>\n",
       "      <td>2</td>\n",
       "      <td>1</td>\n",
       "      <td>1</td>\n",
       "      <td>0</td>\n",
       "      <td>0</td>\n",
       "    </tr>\n",
       "    <tr>\n",
       "      <th>1</th>\n",
       "      <td>smOvOajNG0lS4Pq7d8g4JQ</td>\n",
       "      <td>4_W5pstoN1166TGjjPOrMg</td>\n",
       "      <td>4.0</td>\n",
       "      <td>Meg</td>\n",
       "      <td>176</td>\n",
       "      <td>2009-09-28 01:53:09</td>\n",
       "      <td>120</td>\n",
       "      <td>32</td>\n",
       "      <td>29</td>\n",
       "      <td>NaN</td>\n",
       "      <td>...</td>\n",
       "      <td>0</td>\n",
       "      <td>0</td>\n",
       "      <td>1</td>\n",
       "      <td>0</td>\n",
       "      <td>3</td>\n",
       "      <td>2</td>\n",
       "      <td>1</td>\n",
       "      <td>1</td>\n",
       "      <td>0</td>\n",
       "      <td>0</td>\n",
       "    </tr>\n",
       "    <tr>\n",
       "      <th>2</th>\n",
       "      <td>smOvOajNG0lS4Pq7d8g4JQ</td>\n",
       "      <td>mUIBtlWNPD7sz3rGGWQ1RA</td>\n",
       "      <td>3.0</td>\n",
       "      <td>Meg</td>\n",
       "      <td>176</td>\n",
       "      <td>2009-09-28 01:53:09</td>\n",
       "      <td>120</td>\n",
       "      <td>32</td>\n",
       "      <td>29</td>\n",
       "      <td>NaN</td>\n",
       "      <td>...</td>\n",
       "      <td>0</td>\n",
       "      <td>0</td>\n",
       "      <td>1</td>\n",
       "      <td>0</td>\n",
       "      <td>3</td>\n",
       "      <td>2</td>\n",
       "      <td>1</td>\n",
       "      <td>1</td>\n",
       "      <td>0</td>\n",
       "      <td>0</td>\n",
       "    </tr>\n",
       "    <tr>\n",
       "      <th>3</th>\n",
       "      <td>smOvOajNG0lS4Pq7d8g4JQ</td>\n",
       "      <td>0-JRAY0LpBazDuA9761U5w</td>\n",
       "      <td>2.0</td>\n",
       "      <td>Meg</td>\n",
       "      <td>176</td>\n",
       "      <td>2009-09-28 01:53:09</td>\n",
       "      <td>120</td>\n",
       "      <td>32</td>\n",
       "      <td>29</td>\n",
       "      <td>NaN</td>\n",
       "      <td>...</td>\n",
       "      <td>0</td>\n",
       "      <td>0</td>\n",
       "      <td>1</td>\n",
       "      <td>0</td>\n",
       "      <td>3</td>\n",
       "      <td>2</td>\n",
       "      <td>1</td>\n",
       "      <td>1</td>\n",
       "      <td>0</td>\n",
       "      <td>0</td>\n",
       "    </tr>\n",
       "    <tr>\n",
       "      <th>4</th>\n",
       "      <td>smOvOajNG0lS4Pq7d8g4JQ</td>\n",
       "      <td>YqmClmk7oLcDzPWKHzgA-Q</td>\n",
       "      <td>4.0</td>\n",
       "      <td>Meg</td>\n",
       "      <td>176</td>\n",
       "      <td>2009-09-28 01:53:09</td>\n",
       "      <td>120</td>\n",
       "      <td>32</td>\n",
       "      <td>29</td>\n",
       "      <td>NaN</td>\n",
       "      <td>...</td>\n",
       "      <td>0</td>\n",
       "      <td>0</td>\n",
       "      <td>1</td>\n",
       "      <td>0</td>\n",
       "      <td>3</td>\n",
       "      <td>2</td>\n",
       "      <td>1</td>\n",
       "      <td>1</td>\n",
       "      <td>0</td>\n",
       "      <td>0</td>\n",
       "    </tr>\n",
       "  </tbody>\n",
       "</table>\n",
       "<p>5 rows × 24 columns</p>\n",
       "</div>"
      ],
      "text/plain": [
       "                  user_id             business_id  stars name  review_count  \\\n",
       "0  smOvOajNG0lS4Pq7d8g4JQ  RZtGWDLCAtuipwaZ-UfjmQ    4.0  Meg           176   \n",
       "1  smOvOajNG0lS4Pq7d8g4JQ  4_W5pstoN1166TGjjPOrMg    4.0  Meg           176   \n",
       "2  smOvOajNG0lS4Pq7d8g4JQ  mUIBtlWNPD7sz3rGGWQ1RA    3.0  Meg           176   \n",
       "3  smOvOajNG0lS4Pq7d8g4JQ  0-JRAY0LpBazDuA9761U5w    2.0  Meg           176   \n",
       "4  smOvOajNG0lS4Pq7d8g4JQ  YqmClmk7oLcDzPWKHzgA-Q    4.0  Meg           176   \n",
       "\n",
       "         yelping_since  useful  funny  cool elite  ... compliment_more  \\\n",
       "0  2009-09-28 01:53:09     120     32    29   NaN  ...               0   \n",
       "1  2009-09-28 01:53:09     120     32    29   NaN  ...               0   \n",
       "2  2009-09-28 01:53:09     120     32    29   NaN  ...               0   \n",
       "3  2009-09-28 01:53:09     120     32    29   NaN  ...               0   \n",
       "4  2009-09-28 01:53:09     120     32    29   NaN  ...               0   \n",
       "\n",
       "   compliment_profile  compliment_cute  compliment_list  compliment_note  \\\n",
       "0                   0                1                0                3   \n",
       "1                   0                1                0                3   \n",
       "2                   0                1                0                3   \n",
       "3                   0                1                0                3   \n",
       "4                   0                1                0                3   \n",
       "\n",
       "   compliment_plain  compliment_cool  compliment_funny  compliment_writer  \\\n",
       "0                 2                1                 1                  0   \n",
       "1                 2                1                 1                  0   \n",
       "2                 2                1                 1                  0   \n",
       "3                 2                1                 1                  0   \n",
       "4                 2                1                 1                  0   \n",
       "\n",
       "   compliment_photos  \n",
       "0                  0  \n",
       "1                  0  \n",
       "2                  0  \n",
       "3                  0  \n",
       "4                  0  \n",
       "\n",
       "[5 rows x 24 columns]"
      ]
     },
     "execution_count": 12,
     "metadata": {},
     "output_type": "execute_result"
    }
   ],
   "source": [
    "# load csv for the reviews of the businesses\n",
    "df_user = pd.read_csv(\"philly_users_30_50.csv\")\n",
    "print(df_user.shape)\n",
    "df_user.head()"
   ]
  },
  {
   "cell_type": "code",
   "execution_count": 13,
   "id": "dce4dd23",
   "metadata": {},
   "outputs": [
    {
     "name": "stdout",
     "output_type": "stream",
     "text": [
      "1504\n",
      "19347\n",
      "Elapsed time:  31.405548334121704\n"
     ]
    },
    {
     "data": {
      "image/png": "[encoded data removed]",
      "text/plain": [
       "<Figure size 640x480 with 1 Axes>"
      ]
     },
     "metadata": {},
     "output_type": "display_data"
    }
   ],
   "source": [
    "# create the graph\n",
    "start_time = time.time()\n",
    "\n",
    "df_users_unique = df_user.drop_duplicates(subset='user_id').reset_index()\n",
    "df_users_unique['friends'] = df_users_unique['friends'].str.split(',')\n",
    "# strip because it had some spaces between friends\n",
    "df_users_unique['user_id'] = df_users_unique['user_id'].apply(lambda row: row.strip())\n",
    "# explode works a lot of faster than doing a double for which I tried\n",
    "df_edges = df_users_unique.explode('friends').reset_index(drop=True)\n",
    "# strip because it had some spaces between friends\n",
    "df_edges['friends'] = df_edges['friends'].apply(lambda row: row.strip())\n",
    "df_edges = df_edges[df_edges['user_id'].isin(df_users_unique['user_id']) & df_edges['friends'].isin(df_users_unique['user_id'])]\n",
    "G = nx.from_pandas_edgelist(df_edges, 'user_id', 'friends')\n",
    "nx.draw_networkx(G)\n",
    "print(len(G.nodes))\n",
    "print(len(G.edges))\n",
    "\n",
    "end_time = time.time()\n",
    "elapsed_time = end_time - start_time\n",
    "print(\"Elapsed time: \", elapsed_time)"
   ]
  },
  {
   "cell_type": "code",
   "execution_count": 17,
   "id": "fcfdf0b6",
   "metadata": {},
   "outputs": [
    {
     "name": "stdout",
     "output_type": "stream",
     "text": [
      "1504\n"
     ]
    }
   ],
   "source": [
    "largest_cc = max(nx.connected_components(G), key=len)\n",
    "print(len(largest_cc))"
   ]
  },
  {
   "cell_type": "markdown",
   "id": "de18d522",
   "metadata": {},
   "source": [
    "Συμπέρασμα"
   ]
  },
  {
   "cell_type": "markdown",
   "id": "cdf78fb1",
   "metadata": {},
   "source": [
    "Παρατηρούμε πως απλά δημιουργώντας το γράφημα έχουμε 1504 κόμβους που είναι όδοι περιμέναμε να πάρουμε από την μεγαλύτερη συνεκτική συνιστώσα. Για πληρότητα παρατίθεται πως βγάζουν ίδιο αποτέλεσμα. "
   ]
  },
  {
   "cell_type": "markdown",
   "id": "c3a8bebf",
   "metadata": {},
   "source": [
    "Από το παραπάνω μπορούμε να καταλάβουμε πως από τους 1604 κόμβους(χρήστες) που ξεκινήσαμε οι 100 δεν έχουν κανέναν φίλο από τους υπόλοιπους χρήστες που έχουμε για αυτό το λόγο και δεν συμπεριλαμβάνονται στην μεγαλύτερη συνεκτική συνιστώσα και δεν σχεδιάστηκαν εξαρχής στο γράφημα G."
   ]
  },
  {
   "cell_type": "markdown",
   "id": "70ddcad0",
   "metadata": {},
   "source": [
    "# Step 2"
   ]
  },
  {
   "cell_type": "code",
   "execution_count": 18,
   "id": "ab426263",
   "metadata": {},
   "outputs": [
    {
     "name": "stdout",
     "output_type": "stream",
     "text": [
      "(101923, 24)\n"
     ]
    },
    {
     "data": {
      "text/html": [
       "<div>\n",
       "<style scoped>\n",
       "    .dataframe tbody tr th:only-of-type {\n",
       "        vertical-align: middle;\n",
       "    }\n",
       "\n",
       "    .dataframe tbody tr th {\n",
       "        vertical-align: top;\n",
       "    }\n",
       "\n",
       "    .dataframe thead th {\n",
       "        text-align: right;\n",
       "    }\n",
       "</style>\n",
       "<table border=\"1\" class=\"dataframe\">\n",
       "  <thead>\n",
       "    <tr style=\"text-align: right;\">\n",
       "      <th></th>\n",
       "      <th>user_id</th>\n",
       "      <th>business_id</th>\n",
       "      <th>stars</th>\n",
       "      <th>name</th>\n",
       "      <th>review_count</th>\n",
       "      <th>yelping_since</th>\n",
       "      <th>useful</th>\n",
       "      <th>funny</th>\n",
       "      <th>cool</th>\n",
       "      <th>elite</th>\n",
       "      <th>...</th>\n",
       "      <th>compliment_more</th>\n",
       "      <th>compliment_profile</th>\n",
       "      <th>compliment_cute</th>\n",
       "      <th>compliment_list</th>\n",
       "      <th>compliment_note</th>\n",
       "      <th>compliment_plain</th>\n",
       "      <th>compliment_cool</th>\n",
       "      <th>compliment_funny</th>\n",
       "      <th>compliment_writer</th>\n",
       "      <th>compliment_photos</th>\n",
       "    </tr>\n",
       "  </thead>\n",
       "  <tbody>\n",
       "    <tr>\n",
       "      <th>0</th>\n",
       "      <td>smOvOajNG0lS4Pq7d8g4JQ</td>\n",
       "      <td>RZtGWDLCAtuipwaZ-UfjmQ</td>\n",
       "      <td>4.0</td>\n",
       "      <td>Meg</td>\n",
       "      <td>176</td>\n",
       "      <td>2009-09-28 01:53:09</td>\n",
       "      <td>120</td>\n",
       "      <td>32</td>\n",
       "      <td>29</td>\n",
       "      <td>NaN</td>\n",
       "      <td>...</td>\n",
       "      <td>0</td>\n",
       "      <td>0</td>\n",
       "      <td>1</td>\n",
       "      <td>0</td>\n",
       "      <td>3</td>\n",
       "      <td>2</td>\n",
       "      <td>1</td>\n",
       "      <td>1</td>\n",
       "      <td>0</td>\n",
       "      <td>0</td>\n",
       "    </tr>\n",
       "    <tr>\n",
       "      <th>1</th>\n",
       "      <td>smOvOajNG0lS4Pq7d8g4JQ</td>\n",
       "      <td>4_W5pstoN1166TGjjPOrMg</td>\n",
       "      <td>4.0</td>\n",
       "      <td>Meg</td>\n",
       "      <td>176</td>\n",
       "      <td>2009-09-28 01:53:09</td>\n",
       "      <td>120</td>\n",
       "      <td>32</td>\n",
       "      <td>29</td>\n",
       "      <td>NaN</td>\n",
       "      <td>...</td>\n",
       "      <td>0</td>\n",
       "      <td>0</td>\n",
       "      <td>1</td>\n",
       "      <td>0</td>\n",
       "      <td>3</td>\n",
       "      <td>2</td>\n",
       "      <td>1</td>\n",
       "      <td>1</td>\n",
       "      <td>0</td>\n",
       "      <td>0</td>\n",
       "    </tr>\n",
       "    <tr>\n",
       "      <th>2</th>\n",
       "      <td>smOvOajNG0lS4Pq7d8g4JQ</td>\n",
       "      <td>mUIBtlWNPD7sz3rGGWQ1RA</td>\n",
       "      <td>3.0</td>\n",
       "      <td>Meg</td>\n",
       "      <td>176</td>\n",
       "      <td>2009-09-28 01:53:09</td>\n",
       "      <td>120</td>\n",
       "      <td>32</td>\n",
       "      <td>29</td>\n",
       "      <td>NaN</td>\n",
       "      <td>...</td>\n",
       "      <td>0</td>\n",
       "      <td>0</td>\n",
       "      <td>1</td>\n",
       "      <td>0</td>\n",
       "      <td>3</td>\n",
       "      <td>2</td>\n",
       "      <td>1</td>\n",
       "      <td>1</td>\n",
       "      <td>0</td>\n",
       "      <td>0</td>\n",
       "    </tr>\n",
       "    <tr>\n",
       "      <th>3</th>\n",
       "      <td>smOvOajNG0lS4Pq7d8g4JQ</td>\n",
       "      <td>0-JRAY0LpBazDuA9761U5w</td>\n",
       "      <td>2.0</td>\n",
       "      <td>Meg</td>\n",
       "      <td>176</td>\n",
       "      <td>2009-09-28 01:53:09</td>\n",
       "      <td>120</td>\n",
       "      <td>32</td>\n",
       "      <td>29</td>\n",
       "      <td>NaN</td>\n",
       "      <td>...</td>\n",
       "      <td>0</td>\n",
       "      <td>0</td>\n",
       "      <td>1</td>\n",
       "      <td>0</td>\n",
       "      <td>3</td>\n",
       "      <td>2</td>\n",
       "      <td>1</td>\n",
       "      <td>1</td>\n",
       "      <td>0</td>\n",
       "      <td>0</td>\n",
       "    </tr>\n",
       "    <tr>\n",
       "      <th>4</th>\n",
       "      <td>smOvOajNG0lS4Pq7d8g4JQ</td>\n",
       "      <td>YqmClmk7oLcDzPWKHzgA-Q</td>\n",
       "      <td>4.0</td>\n",
       "      <td>Meg</td>\n",
       "      <td>176</td>\n",
       "      <td>2009-09-28 01:53:09</td>\n",
       "      <td>120</td>\n",
       "      <td>32</td>\n",
       "      <td>29</td>\n",
       "      <td>NaN</td>\n",
       "      <td>...</td>\n",
       "      <td>0</td>\n",
       "      <td>0</td>\n",
       "      <td>1</td>\n",
       "      <td>0</td>\n",
       "      <td>3</td>\n",
       "      <td>2</td>\n",
       "      <td>1</td>\n",
       "      <td>1</td>\n",
       "      <td>0</td>\n",
       "      <td>0</td>\n",
       "    </tr>\n",
       "  </tbody>\n",
       "</table>\n",
       "<p>5 rows × 24 columns</p>\n",
       "</div>"
      ],
      "text/plain": [
       "                  user_id             business_id  stars name  review_count  \\\n",
       "0  smOvOajNG0lS4Pq7d8g4JQ  RZtGWDLCAtuipwaZ-UfjmQ    4.0  Meg           176   \n",
       "1  smOvOajNG0lS4Pq7d8g4JQ  4_W5pstoN1166TGjjPOrMg    4.0  Meg           176   \n",
       "2  smOvOajNG0lS4Pq7d8g4JQ  mUIBtlWNPD7sz3rGGWQ1RA    3.0  Meg           176   \n",
       "3  smOvOajNG0lS4Pq7d8g4JQ  0-JRAY0LpBazDuA9761U5w    2.0  Meg           176   \n",
       "4  smOvOajNG0lS4Pq7d8g4JQ  YqmClmk7oLcDzPWKHzgA-Q    4.0  Meg           176   \n",
       "\n",
       "         yelping_since  useful  funny  cool elite  ... compliment_more  \\\n",
       "0  2009-09-28 01:53:09     120     32    29   NaN  ...               0   \n",
       "1  2009-09-28 01:53:09     120     32    29   NaN  ...               0   \n",
       "2  2009-09-28 01:53:09     120     32    29   NaN  ...               0   \n",
       "3  2009-09-28 01:53:09     120     32    29   NaN  ...               0   \n",
       "4  2009-09-28 01:53:09     120     32    29   NaN  ...               0   \n",
       "\n",
       "   compliment_profile  compliment_cute  compliment_list  compliment_note  \\\n",
       "0                   0                1                0                3   \n",
       "1                   0                1                0                3   \n",
       "2                   0                1                0                3   \n",
       "3                   0                1                0                3   \n",
       "4                   0                1                0                3   \n",
       "\n",
       "   compliment_plain  compliment_cool  compliment_funny  compliment_writer  \\\n",
       "0                 2                1                 1                  0   \n",
       "1                 2                1                 1                  0   \n",
       "2                 2                1                 1                  0   \n",
       "3                 2                1                 1                  0   \n",
       "4                 2                1                 1                  0   \n",
       "\n",
       "   compliment_photos  \n",
       "0                  0  \n",
       "1                  0  \n",
       "2                  0  \n",
       "3                  0  \n",
       "4                  0  \n",
       "\n",
       "[5 rows x 24 columns]"
      ]
     },
     "execution_count": 18,
     "metadata": {},
     "output_type": "execute_result"
    }
   ],
   "source": [
    "print(df_user.shape)\n",
    "df_user.head()"
   ]
  },
  {
   "cell_type": "code",
   "execution_count": 20,
   "id": "6dd0e386",
   "metadata": {},
   "outputs": [
    {
     "name": "stdout",
     "output_type": "stream",
     "text": [
      "<class 'tuple'>\n",
      "(100,)\n"
     ]
    },
    {
     "data": {
      "text/plain": [
       "47779     QczCdRxNPg08FGbrj9n0VA\n",
       "100131    -OZPBHH7RzyPIai4AlPWKA\n",
       "61244     qeC7UzX6wj-5L5GTVgcl5w\n",
       "55716     s-xVBnGjW1U4iqbTJRSu7Q\n",
       "101026    kEfG0D2ga4vl0xbIUjZ3mA\n",
       "Name: user_id, dtype: object"
      ]
     },
     "execution_count": 20,
     "metadata": {},
     "output_type": "execute_result"
    }
   ],
   "source": [
    "# drop duplicates to pick 100 unique users\n",
    "# pick 100 users without replacement so they are unique\n",
    "test_users = df_user['user_id'].drop_duplicates().sample(n=100,replace=False)\n",
    "print(type(test_users.shape))\n",
    "print(test_users.shape)\n",
    "test_users.head()"
   ]
  },
  {
   "cell_type": "code",
   "execution_count": 21,
   "id": "3fccd7a9",
   "metadata": {},
   "outputs": [
    {
     "name": "stdout",
     "output_type": "stream",
     "text": [
      "(6366, 3)\n"
     ]
    },
    {
     "data": {
      "text/html": [
       "<div>\n",
       "<style scoped>\n",
       "    .dataframe tbody tr th:only-of-type {\n",
       "        vertical-align: middle;\n",
       "    }\n",
       "\n",
       "    .dataframe tbody tr th {\n",
       "        vertical-align: top;\n",
       "    }\n",
       "\n",
       "    .dataframe thead th {\n",
       "        text-align: right;\n",
       "    }\n",
       "</style>\n",
       "<table border=\"1\" class=\"dataframe\">\n",
       "  <thead>\n",
       "    <tr style=\"text-align: right;\">\n",
       "      <th></th>\n",
       "      <th>user_id</th>\n",
       "      <th>business_id</th>\n",
       "      <th>stars</th>\n",
       "    </tr>\n",
       "  </thead>\n",
       "  <tbody>\n",
       "    <tr>\n",
       "      <th>16</th>\n",
       "      <td>BDyCY898xb7QexX-XJgrEw</td>\n",
       "      <td>RZtGWDLCAtuipwaZ-UfjmQ</td>\n",
       "      <td>4.0</td>\n",
       "    </tr>\n",
       "    <tr>\n",
       "      <th>19</th>\n",
       "      <td>Oi1qbcz2m2SnwUeztGYcnQ</td>\n",
       "      <td>RZtGWDLCAtuipwaZ-UfjmQ</td>\n",
       "      <td>4.0</td>\n",
       "    </tr>\n",
       "    <tr>\n",
       "      <th>20</th>\n",
       "      <td>Oi1qbcz2m2SnwUeztGYcnQ</td>\n",
       "      <td>RZtGWDLCAtuipwaZ-UfjmQ</td>\n",
       "      <td>4.0</td>\n",
       "    </tr>\n",
       "    <tr>\n",
       "      <th>29</th>\n",
       "      <td>eENfwrVhvOj5t7Gt1IKKAg</td>\n",
       "      <td>RZtGWDLCAtuipwaZ-UfjmQ</td>\n",
       "      <td>4.0</td>\n",
       "    </tr>\n",
       "    <tr>\n",
       "      <th>31</th>\n",
       "      <td>04hS_dGfUZd_5iJYRdPHLw</td>\n",
       "      <td>RZtGWDLCAtuipwaZ-UfjmQ</td>\n",
       "      <td>4.0</td>\n",
       "    </tr>\n",
       "  </tbody>\n",
       "</table>\n",
       "</div>"
      ],
      "text/plain": [
       "                   user_id             business_id  stars\n",
       "16  BDyCY898xb7QexX-XJgrEw  RZtGWDLCAtuipwaZ-UfjmQ    4.0\n",
       "19  Oi1qbcz2m2SnwUeztGYcnQ  RZtGWDLCAtuipwaZ-UfjmQ    4.0\n",
       "20  Oi1qbcz2m2SnwUeztGYcnQ  RZtGWDLCAtuipwaZ-UfjmQ    4.0\n",
       "29  eENfwrVhvOj5t7Gt1IKKAg  RZtGWDLCAtuipwaZ-UfjmQ    4.0\n",
       "31  04hS_dGfUZd_5iJYRdPHLw  RZtGWDLCAtuipwaZ-UfjmQ    4.0"
      ]
     },
     "execution_count": 21,
     "metadata": {},
     "output_type": "execute_result"
    }
   ],
   "source": [
    "# from the dataframe keep only the rows with the same user_id\n",
    "# to be able from them to choose the 100 businesses\n",
    "df_business_avail = df_u_b_s[df_u_b_s['user_id'].isin(test_users)]\n",
    "print(df_business_avail.shape)\n",
    "df_business_avail.head()"
   ]
  },
  {
   "cell_type": "code",
   "execution_count": 22,
   "id": "d67ac3a4",
   "metadata": {},
   "outputs": [
    {
     "name": "stdout",
     "output_type": "stream",
     "text": [
      "(100,)\n"
     ]
    },
    {
     "data": {
      "text/plain": [
       "57446    HTqXI5S2XcSlh_ylx9sE6g\n",
       "4097     jkGQQ4_LgJx3hwPtCFkzbQ\n",
       "76911    bmJgvpuf2GBXd62ELK0Q2w\n",
       "6102     vtSisxaozZ7HWpBl_W7VaQ\n",
       "65684    9c7MUiE6VI8NesjPdj5FkA\n",
       "Name: business_id, dtype: object"
      ]
     },
     "execution_count": 22,
     "metadata": {},
     "output_type": "execute_result"
    }
   ],
   "source": [
    "# drop duplicates to pick 100 unique businesses\n",
    "# pick 100 businesses without replacement so they are unique\n",
    "test_business = df_business_avail['business_id'].drop_duplicates().sample(n=100,replace=False)\n",
    "print(test_business.shape)\n",
    "test_business.head()"
   ]
  },
  {
   "cell_type": "markdown",
   "id": "8bbf855d",
   "metadata": {},
   "source": [
    "Test set"
   ]
  },
  {
   "cell_type": "code",
   "execution_count": 23,
   "id": "af8c3e10",
   "metadata": {},
   "outputs": [
    {
     "name": "stdout",
     "output_type": "stream",
     "text": [
      "(722, 3)\n"
     ]
    },
    {
     "data": {
      "text/html": [
       "<div>\n",
       "<style scoped>\n",
       "    .dataframe tbody tr th:only-of-type {\n",
       "        vertical-align: middle;\n",
       "    }\n",
       "\n",
       "    .dataframe tbody tr th {\n",
       "        vertical-align: top;\n",
       "    }\n",
       "\n",
       "    .dataframe thead th {\n",
       "        text-align: right;\n",
       "    }\n",
       "</style>\n",
       "<table border=\"1\" class=\"dataframe\">\n",
       "  <thead>\n",
       "    <tr style=\"text-align: right;\">\n",
       "      <th></th>\n",
       "      <th>user_id</th>\n",
       "      <th>business_id</th>\n",
       "      <th>stars</th>\n",
       "    </tr>\n",
       "  </thead>\n",
       "  <tbody>\n",
       "    <tr>\n",
       "      <th>38641</th>\n",
       "      <td>s-xVBnGjW1U4iqbTJRSu7Q</td>\n",
       "      <td>ctHjyadbDQAtUFfkcAFEHw</td>\n",
       "      <td>5.0</td>\n",
       "    </tr>\n",
       "    <tr>\n",
       "      <th>100438</th>\n",
       "      <td>x-LrGPXN7WFX15Qk9B6_YQ</td>\n",
       "      <td>45ClmqPAagmNvdUojFULZA</td>\n",
       "      <td>5.0</td>\n",
       "    </tr>\n",
       "    <tr>\n",
       "      <th>25163</th>\n",
       "      <td>QczCdRxNPg08FGbrj9n0VA</td>\n",
       "      <td>qsAZNQ-6P4I9r7onkBZJ_g</td>\n",
       "      <td>3.0</td>\n",
       "    </tr>\n",
       "    <tr>\n",
       "      <th>4272</th>\n",
       "      <td>GdmJInilh9WAqAISitNGRw</td>\n",
       "      <td>jkGQQ4_LgJx3hwPtCFkzbQ</td>\n",
       "      <td>1.0</td>\n",
       "    </tr>\n",
       "    <tr>\n",
       "      <th>15383</th>\n",
       "      <td>z9uf9-0uX5Jh8-4Y5l2PQg</td>\n",
       "      <td>HS5CfzQ_gOJHgqwtv9rvNQ</td>\n",
       "      <td>3.0</td>\n",
       "    </tr>\n",
       "  </tbody>\n",
       "</table>\n",
       "</div>"
      ],
      "text/plain": [
       "                       user_id             business_id  stars\n",
       "38641   s-xVBnGjW1U4iqbTJRSu7Q  ctHjyadbDQAtUFfkcAFEHw    5.0\n",
       "100438  x-LrGPXN7WFX15Qk9B6_YQ  45ClmqPAagmNvdUojFULZA    5.0\n",
       "25163   QczCdRxNPg08FGbrj9n0VA  qsAZNQ-6P4I9r7onkBZJ_g    3.0\n",
       "4272    GdmJInilh9WAqAISitNGRw  jkGQQ4_LgJx3hwPtCFkzbQ    1.0\n",
       "15383   z9uf9-0uX5Jh8-4Y5l2PQg  HS5CfzQ_gOJHgqwtv9rvNQ    3.0"
      ]
     },
     "execution_count": 23,
     "metadata": {},
     "output_type": "execute_result"
    }
   ],
   "source": [
    "df_test = df_u_b_s[df_u_b_s['user_id'].isin(test_users) &\n",
    "                   df_u_b_s['business_id'].isin(test_business)]\n",
    "# shuffle so test set dont have bias\n",
    "df_test = df_test.sample(frac=1)\n",
    "print(df_test.shape)\n",
    "df_test.head()"
   ]
  },
  {
   "cell_type": "code",
   "execution_count": 24,
   "id": "c4cbbe83",
   "metadata": {},
   "outputs": [
    {
     "data": {
      "text/plain": [
       "100"
      ]
     },
     "execution_count": 24,
     "metadata": {},
     "output_type": "execute_result"
    }
   ],
   "source": [
    "df_test['user_id'].nunique()"
   ]
  },
  {
   "cell_type": "code",
   "execution_count": 25,
   "id": "f2b6500e",
   "metadata": {},
   "outputs": [
    {
     "data": {
      "text/plain": [
       "100"
      ]
     },
     "execution_count": 25,
     "metadata": {},
     "output_type": "execute_result"
    }
   ],
   "source": [
    "df_test['business_id'].nunique()"
   ]
  },
  {
   "cell_type": "markdown",
   "id": "4c00d843",
   "metadata": {},
   "source": [
    "Training set"
   ]
  },
  {
   "cell_type": "code",
   "execution_count": 26,
   "id": "8658f16f",
   "metadata": {},
   "outputs": [
    {
     "name": "stdout",
     "output_type": "stream",
     "text": [
      "(101201, 3)\n"
     ]
    },
    {
     "data": {
      "text/html": [
       "<div>\n",
       "<style scoped>\n",
       "    .dataframe tbody tr th:only-of-type {\n",
       "        vertical-align: middle;\n",
       "    }\n",
       "\n",
       "    .dataframe tbody tr th {\n",
       "        vertical-align: top;\n",
       "    }\n",
       "\n",
       "    .dataframe thead th {\n",
       "        text-align: right;\n",
       "    }\n",
       "</style>\n",
       "<table border=\"1\" class=\"dataframe\">\n",
       "  <thead>\n",
       "    <tr style=\"text-align: right;\">\n",
       "      <th></th>\n",
       "      <th>user_id</th>\n",
       "      <th>business_id</th>\n",
       "      <th>stars</th>\n",
       "    </tr>\n",
       "  </thead>\n",
       "  <tbody>\n",
       "    <tr>\n",
       "      <th>65160</th>\n",
       "      <td>Uq1q5PzMmcQLMWx1GLA-CQ</td>\n",
       "      <td>-OIUunijjcq_ZzyyQhPPFQ</td>\n",
       "      <td>5.0</td>\n",
       "    </tr>\n",
       "    <tr>\n",
       "      <th>21141</th>\n",
       "      <td>_rX2xDlQtbDipXJpg53-bA</td>\n",
       "      <td>gOrJeoLDOiW7muWuoE-sMg</td>\n",
       "      <td>3.0</td>\n",
       "    </tr>\n",
       "    <tr>\n",
       "      <th>41644</th>\n",
       "      <td>WDrVbBxsNZt-0ytEyUAaBg</td>\n",
       "      <td>zwd4dyQ5ovnjVojWfAuhMw</td>\n",
       "      <td>4.0</td>\n",
       "    </tr>\n",
       "    <tr>\n",
       "      <th>86037</th>\n",
       "      <td>u1P7POW_Hy4V8xaOWbvf8g</td>\n",
       "      <td>zjTBfbvbN2Ps6_Ar0w-fuQ</td>\n",
       "      <td>2.0</td>\n",
       "    </tr>\n",
       "    <tr>\n",
       "      <th>94774</th>\n",
       "      <td>Obp8LRY_MRwUIqTPDbp6Zw</td>\n",
       "      <td>AKrFJ7vuBbLPfE9u2HVEkQ</td>\n",
       "      <td>4.0</td>\n",
       "    </tr>\n",
       "  </tbody>\n",
       "</table>\n",
       "</div>"
      ],
      "text/plain": [
       "                      user_id             business_id  stars\n",
       "65160  Uq1q5PzMmcQLMWx1GLA-CQ  -OIUunijjcq_ZzyyQhPPFQ    5.0\n",
       "21141  _rX2xDlQtbDipXJpg53-bA  gOrJeoLDOiW7muWuoE-sMg    3.0\n",
       "41644  WDrVbBxsNZt-0ytEyUAaBg  zwd4dyQ5ovnjVojWfAuhMw    4.0\n",
       "86037  u1P7POW_Hy4V8xaOWbvf8g  zjTBfbvbN2Ps6_Ar0w-fuQ    2.0\n",
       "94774  Obp8LRY_MRwUIqTPDbp6Zw  AKrFJ7vuBbLPfE9u2HVEkQ    4.0"
      ]
     },
     "execution_count": 26,
     "metadata": {},
     "output_type": "execute_result"
    }
   ],
   "source": [
    "# keep only the values that don't exist in the df_test\n",
    "mask = ~df_u_b_s.isin(df_test).all(1)\n",
    "df_train = df_u_b_s[mask]\n",
    "df_train = df_train.sample(frac=1)\n",
    "print(df_train.shape)\n",
    "df_train.head()"
   ]
  },
  {
   "cell_type": "markdown",
   "id": "3ed7d662",
   "metadata": {},
   "source": [
    "take already generated train_set and test_set"
   ]
  },
  {
   "cell_type": "code",
   "execution_count": 27,
   "id": "10b0b235",
   "metadata": {},
   "outputs": [
    {
     "name": "stdout",
     "output_type": "stream",
     "text": [
      "(96594, 4)\n"
     ]
    },
    {
     "data": {
      "text/html": [
       "<div>\n",
       "<style scoped>\n",
       "    .dataframe tbody tr th:only-of-type {\n",
       "        vertical-align: middle;\n",
       "    }\n",
       "\n",
       "    .dataframe tbody tr th {\n",
       "        vertical-align: top;\n",
       "    }\n",
       "\n",
       "    .dataframe thead th {\n",
       "        text-align: right;\n",
       "    }\n",
       "</style>\n",
       "<table border=\"1\" class=\"dataframe\">\n",
       "  <thead>\n",
       "    <tr style=\"text-align: right;\">\n",
       "      <th></th>\n",
       "      <th>Unnamed: 0</th>\n",
       "      <th>user_id</th>\n",
       "      <th>business_id</th>\n",
       "      <th>stars</th>\n",
       "    </tr>\n",
       "  </thead>\n",
       "  <tbody>\n",
       "    <tr>\n",
       "      <th>0</th>\n",
       "      <td>3</td>\n",
       "      <td>smOvOajNG0lS4Pq7d8g4JQ</td>\n",
       "      <td>RZtGWDLCAtuipwaZ-UfjmQ</td>\n",
       "      <td>4.0</td>\n",
       "    </tr>\n",
       "    <tr>\n",
       "      <th>1</th>\n",
       "      <td>5</td>\n",
       "      <td>IQsF3Rc6IgCzjVV9DE8KXg</td>\n",
       "      <td>eFvzHawVJofxSnD7TgbZtg</td>\n",
       "      <td>5.0</td>\n",
       "    </tr>\n",
       "    <tr>\n",
       "      <th>2</th>\n",
       "      <td>10</td>\n",
       "      <td>ZGjgfSvjQK886kiTzLwfLQ</td>\n",
       "      <td>EtKSTHV5Qx_Q7Aur9o4kQQ</td>\n",
       "      <td>5.0</td>\n",
       "    </tr>\n",
       "    <tr>\n",
       "      <th>3</th>\n",
       "      <td>11</td>\n",
       "      <td>IKbjLnfBQtEyVzEu8CuOLg</td>\n",
       "      <td>VJEzpfLs_Jnzgqh5A_FVTg</td>\n",
       "      <td>4.0</td>\n",
       "    </tr>\n",
       "    <tr>\n",
       "      <th>4</th>\n",
       "      <td>13</td>\n",
       "      <td>NUtIAX-ygn474tDg5nmesg</td>\n",
       "      <td>6LCZLGa09Qifn6rG7-DNrg</td>\n",
       "      <td>4.0</td>\n",
       "    </tr>\n",
       "  </tbody>\n",
       "</table>\n",
       "</div>"
      ],
      "text/plain": [
       "   Unnamed: 0                 user_id             business_id  stars\n",
       "0           3  smOvOajNG0lS4Pq7d8g4JQ  RZtGWDLCAtuipwaZ-UfjmQ    4.0\n",
       "1           5  IQsF3Rc6IgCzjVV9DE8KXg  eFvzHawVJofxSnD7TgbZtg    5.0\n",
       "2          10  ZGjgfSvjQK886kiTzLwfLQ  EtKSTHV5Qx_Q7Aur9o4kQQ    5.0\n",
       "3          11  IKbjLnfBQtEyVzEu8CuOLg  VJEzpfLs_Jnzgqh5A_FVTg    4.0\n",
       "4          13  NUtIAX-ygn474tDg5nmesg  6LCZLGa09Qifn6rG7-DNrg    4.0"
      ]
     },
     "execution_count": 27,
     "metadata": {},
     "output_type": "execute_result"
    }
   ],
   "source": [
    "df_train = pd.read_csv('train_data.csv')\n",
    "print(df_train.shape)\n",
    "df_train.head()"
   ]
  },
  {
   "cell_type": "code",
   "execution_count": 28,
   "id": "8b991a87",
   "metadata": {
    "scrolled": true
   },
   "outputs": [
    {
     "name": "stdout",
     "output_type": "stream",
     "text": [
      "(797, 4)\n"
     ]
    },
    {
     "data": {
      "text/html": [
       "<div>\n",
       "<style scoped>\n",
       "    .dataframe tbody tr th:only-of-type {\n",
       "        vertical-align: middle;\n",
       "    }\n",
       "\n",
       "    .dataframe tbody tr th {\n",
       "        vertical-align: top;\n",
       "    }\n",
       "\n",
       "    .dataframe thead th {\n",
       "        text-align: right;\n",
       "    }\n",
       "</style>\n",
       "<table border=\"1\" class=\"dataframe\">\n",
       "  <thead>\n",
       "    <tr style=\"text-align: right;\">\n",
       "      <th></th>\n",
       "      <th>Unnamed: 0</th>\n",
       "      <th>user_id</th>\n",
       "      <th>business_id</th>\n",
       "      <th>stars</th>\n",
       "    </tr>\n",
       "  </thead>\n",
       "  <tbody>\n",
       "    <tr>\n",
       "      <th>0</th>\n",
       "      <td>4267</td>\n",
       "      <td>mzL0zHFGyd9866OUljq49g</td>\n",
       "      <td>7lwe7n-Yc-V9E_HfLAeylg</td>\n",
       "      <td>3.0</td>\n",
       "    </tr>\n",
       "    <tr>\n",
       "      <th>1</th>\n",
       "      <td>8216</td>\n",
       "      <td>5GJ5aLTtTjGIiBz7i9GssQ</td>\n",
       "      <td>4_W5pstoN1166TGjjPOrMg</td>\n",
       "      <td>5.0</td>\n",
       "    </tr>\n",
       "    <tr>\n",
       "      <th>2</th>\n",
       "      <td>8611</td>\n",
       "      <td>-dnERQYQCDVZFMMuh7bBDg</td>\n",
       "      <td>XQWZQjC73fCTRGWnD18-Eg</td>\n",
       "      <td>3.0</td>\n",
       "    </tr>\n",
       "    <tr>\n",
       "      <th>3</th>\n",
       "      <td>11696</td>\n",
       "      <td>PV0U0arT_AUfjVBtrKfPSA</td>\n",
       "      <td>AlxnbBd2JNkozNvI0OvRLQ</td>\n",
       "      <td>5.0</td>\n",
       "    </tr>\n",
       "    <tr>\n",
       "      <th>4</th>\n",
       "      <td>12166</td>\n",
       "      <td>uxOjXmWuuEuHmF6rXFZfSw</td>\n",
       "      <td>4_W5pstoN1166TGjjPOrMg</td>\n",
       "      <td>4.0</td>\n",
       "    </tr>\n",
       "  </tbody>\n",
       "</table>\n",
       "</div>"
      ],
      "text/plain": [
       "   Unnamed: 0                 user_id             business_id  stars\n",
       "0        4267  mzL0zHFGyd9866OUljq49g  7lwe7n-Yc-V9E_HfLAeylg    3.0\n",
       "1        8216  5GJ5aLTtTjGIiBz7i9GssQ  4_W5pstoN1166TGjjPOrMg    5.0\n",
       "2        8611  -dnERQYQCDVZFMMuh7bBDg  XQWZQjC73fCTRGWnD18-Eg    3.0\n",
       "3       11696  PV0U0arT_AUfjVBtrKfPSA  AlxnbBd2JNkozNvI0OvRLQ    5.0\n",
       "4       12166  uxOjXmWuuEuHmF6rXFZfSw  4_W5pstoN1166TGjjPOrMg    4.0"
      ]
     },
     "execution_count": 28,
     "metadata": {},
     "output_type": "execute_result"
    }
   ],
   "source": [
    "df_test = pd.read_csv('test_data.csv')\n",
    "print(df_test.shape)\n",
    "df_test.head()"
   ]
  },
  {
   "cell_type": "markdown",
   "id": "831f2822",
   "metadata": {},
   "source": [
    "# Step 3"
   ]
  },
  {
   "cell_type": "code",
   "execution_count": 29,
   "id": "c2564c2c",
   "metadata": {},
   "outputs": [
    {
     "data": {
      "text/plain": [
       "1504"
      ]
     },
     "execution_count": 29,
     "metadata": {},
     "output_type": "execute_result"
    }
   ],
   "source": [
    "df_train['user_id'].nunique()"
   ]
  },
  {
   "cell_type": "code",
   "execution_count": 30,
   "id": "2853b74a",
   "metadata": {},
   "outputs": [
    {
     "data": {
      "text/plain": [
       "887"
      ]
     },
     "execution_count": 30,
     "metadata": {},
     "output_type": "execute_result"
    }
   ],
   "source": [
    "df_train['business_id'].nunique()"
   ]
  },
  {
   "cell_type": "code",
   "execution_count": 31,
   "id": "482f17fd",
   "metadata": {},
   "outputs": [
    {
     "data": {
      "text/plain": [
       "100"
      ]
     },
     "execution_count": 31,
     "metadata": {},
     "output_type": "execute_result"
    }
   ],
   "source": [
    "df_test['user_id'].nunique()"
   ]
  },
  {
   "cell_type": "code",
   "execution_count": 32,
   "id": "5b95e7fa",
   "metadata": {},
   "outputs": [
    {
     "data": {
      "text/plain": [
       "100"
      ]
     },
     "execution_count": 32,
     "metadata": {},
     "output_type": "execute_result"
    }
   ],
   "source": [
    "df_test['business_id'].nunique()"
   ]
  },
  {
   "cell_type": "code",
   "execution_count": 54,
   "id": "0c91bfd9",
   "metadata": {},
   "outputs": [
    {
     "name": "stdout",
     "output_type": "stream",
     "text": [
      "1504\n"
     ]
    }
   ],
   "source": [
    "# group by 'user_id' and create a dictionary of dictionaries\n",
    "hashmap = df_train.groupby('user_id').apply(lambda x: \n",
    "                                            dict(zip(x['business_id'],\n",
    "                                                     x['stars']))).to_dict()\n",
    "\n",
    "# print the new hashmap\n",
    "print(len(hashmap))\n",
    "#hashmap"
   ]
  },
  {
   "cell_type": "markdown",
   "id": "aedcaea4",
   "metadata": {},
   "source": [
    "step 3 ola mazemena"
   ]
  },
  {
   "cell_type": "code",
   "execution_count": 34,
   "id": "9f7463f8",
   "metadata": {},
   "outputs": [
    {
     "name": "stdout",
     "output_type": "stream",
     "text": [
      "all business converged\n",
      "Elapsed time: 314.4716203212738 seconds\n"
     ]
    }
   ],
   "source": [
    "# all together\n",
    "# for this business_id(b) keep all the user_ids that have rated the business\n",
    "start_time = time.time()\n",
    "sr_list = []\n",
    "for b in df_test['business_id'].unique():\n",
    "    #b = 'vy0IlrE3Zl44HwxbsZhh2g'\n",
    "    # users that have rated business(b)\n",
    "    user_ids = df_train.loc[df_train['business_id'] == b, 'user_id'].unique()\n",
    "    # assign each key-hashmap to node\n",
    "    for user in G.nodes():\n",
    "        G.nodes[user]['name'] = hashmap.get(user)\n",
    "        # bale sto node(user_id) '=' thn timh pou uparxei sto hasmap gia to user\n",
    "        if user in user_ids: # absorbing node\n",
    "            G.nodes[user]['type'] = 'absorbing'\n",
    "            G.nodes[user]['value'] = G.nodes[user]['name'].get(b)\n",
    "        else:\n",
    "            G.nodes[user]['type'] = 'non absorbing'\n",
    "            G.nodes[user]['value'] = 0\n",
    "    #old_values = np.array([G.nodes[user].get('value') for user in G.nodes()])\n",
    "    old_values = np.array([])\n",
    "    new_values = np.array([])\n",
    "    threshold = 0.01\n",
    "    converged = False\n",
    "    first_pass=0\n",
    "    while not converged:\n",
    "        for user in G.nodes():\n",
    "            if G.nodes[user]['type'] == 'non absorbing':\n",
    "                neighbors_user = np.array([G.nodes[neighbor].get('value') for neighbor in G.neighbors(user)])\n",
    "                r_u_b = np.mean(neighbors_user) # average\n",
    "                new_values = np.append(new_values, r_u_b)\n",
    "                G.nodes[user]['value'] = r_u_b\n",
    "                if first_pass == 0:\n",
    "                    old_values = np.append(old_values,0)\n",
    "        # Check for convergence\n",
    "        if np.all(np.abs(old_values - new_values) < threshold):\n",
    "            converged = True\n",
    "            #print('CONVERGED: The graph with the business')\n",
    "        else:\n",
    "            # If not converged, update old values and clear new values\n",
    "            old_values = new_values\n",
    "            new_values = np.array([])\n",
    "        first_pass +=1\n",
    "\n",
    "    # for predictions\n",
    "    sr_users = df_test.loc[df_test['business_id'] == b, 'user_id']\n",
    "    df_users = sr_users.reset_index()\n",
    "    df_users['pred'] = df_users['user_id'].apply(lambda user: G.nodes[user]['value'])\n",
    "    df_predictions = pd.concat([df_users],axis=1)\n",
    "    sr_list.append(df_predictions)\n",
    "\n",
    "df_predictions = pd.concat(sr_list,ignore_index=True,sort=True)\n",
    "df_predictions = df_predictions.sort_values('index')    \n",
    "print('all businesses converged')\n",
    "end_time = time.time()\n",
    "elapsed_time = end_time - start_time\n",
    "\n",
    "print(f\"Elapsed time: {elapsed_time} seconds\")"
   ]
  },
  {
   "cell_type": "code",
   "execution_count": 35,
   "id": "1d4a6142",
   "metadata": {},
   "outputs": [
    {
     "name": "stdout",
     "output_type": "stream",
     "text": [
      "   index                 user_id      pred\n",
      "0    785  kaOV2JYS0-hdGm0ce3AIDQ  3.779863\n",
      "1    787  ET8n-r7glWYqZhuR6GcdNw  3.735983\n",
      "<class 'pandas.core.frame.DataFrame'>\n"
     ]
    }
   ],
   "source": [
    "print(df_users.head())\n",
    "print(type(df_users))"
   ]
  },
  {
   "cell_type": "code",
   "execution_count": 36,
   "id": "886d350f",
   "metadata": {},
   "outputs": [
    {
     "name": "stdout",
     "output_type": "stream",
     "text": [
      "(797, 3)\n"
     ]
    },
    {
     "data": {
      "text/html": [
       "<div>\n",
       "<style scoped>\n",
       "    .dataframe tbody tr th:only-of-type {\n",
       "        vertical-align: middle;\n",
       "    }\n",
       "\n",
       "    .dataframe tbody tr th {\n",
       "        vertical-align: top;\n",
       "    }\n",
       "\n",
       "    .dataframe thead th {\n",
       "        text-align: right;\n",
       "    }\n",
       "</style>\n",
       "<table border=\"1\" class=\"dataframe\">\n",
       "  <thead>\n",
       "    <tr style=\"text-align: right;\">\n",
       "      <th></th>\n",
       "      <th>index</th>\n",
       "      <th>pred</th>\n",
       "      <th>user_id</th>\n",
       "    </tr>\n",
       "  </thead>\n",
       "  <tbody>\n",
       "    <tr>\n",
       "      <th>0</th>\n",
       "      <td>0</td>\n",
       "      <td>3.707051</td>\n",
       "      <td>mzL0zHFGyd9866OUljq49g</td>\n",
       "    </tr>\n",
       "    <tr>\n",
       "      <th>17</th>\n",
       "      <td>1</td>\n",
       "      <td>4.041174</td>\n",
       "      <td>5GJ5aLTtTjGIiBz7i9GssQ</td>\n",
       "    </tr>\n",
       "    <tr>\n",
       "      <th>35</th>\n",
       "      <td>2</td>\n",
       "      <td>3.811736</td>\n",
       "      <td>-dnERQYQCDVZFMMuh7bBDg</td>\n",
       "    </tr>\n",
       "    <tr>\n",
       "      <th>40</th>\n",
       "      <td>3</td>\n",
       "      <td>4.120912</td>\n",
       "      <td>PV0U0arT_AUfjVBtrKfPSA</td>\n",
       "    </tr>\n",
       "    <tr>\n",
       "      <th>18</th>\n",
       "      <td>4</td>\n",
       "      <td>4.109285</td>\n",
       "      <td>uxOjXmWuuEuHmF6rXFZfSw</td>\n",
       "    </tr>\n",
       "  </tbody>\n",
       "</table>\n",
       "</div>"
      ],
      "text/plain": [
       "    index      pred                 user_id\n",
       "0       0  3.707051  mzL0zHFGyd9866OUljq49g\n",
       "17      1  4.041174  5GJ5aLTtTjGIiBz7i9GssQ\n",
       "35      2  3.811736  -dnERQYQCDVZFMMuh7bBDg\n",
       "40      3  4.120912  PV0U0arT_AUfjVBtrKfPSA\n",
       "18      4  4.109285  uxOjXmWuuEuHmF6rXFZfSw"
      ]
     },
     "execution_count": 36,
     "metadata": {},
     "output_type": "execute_result"
    }
   ],
   "source": [
    "print(df_predictions.shape)\n",
    "df_predictions.head()"
   ]
  },
  {
   "cell_type": "code",
   "execution_count": 37,
   "id": "45518d12",
   "metadata": {},
   "outputs": [
    {
     "name": "stdout",
     "output_type": "stream",
     "text": [
      "(797, 4)\n"
     ]
    },
    {
     "data": {
      "text/html": [
       "<div>\n",
       "<style scoped>\n",
       "    .dataframe tbody tr th:only-of-type {\n",
       "        vertical-align: middle;\n",
       "    }\n",
       "\n",
       "    .dataframe tbody tr th {\n",
       "        vertical-align: top;\n",
       "    }\n",
       "\n",
       "    .dataframe thead th {\n",
       "        text-align: right;\n",
       "    }\n",
       "</style>\n",
       "<table border=\"1\" class=\"dataframe\">\n",
       "  <thead>\n",
       "    <tr style=\"text-align: right;\">\n",
       "      <th></th>\n",
       "      <th>Unnamed: 0</th>\n",
       "      <th>user_id</th>\n",
       "      <th>business_id</th>\n",
       "      <th>stars</th>\n",
       "    </tr>\n",
       "  </thead>\n",
       "  <tbody>\n",
       "    <tr>\n",
       "      <th>0</th>\n",
       "      <td>4267</td>\n",
       "      <td>mzL0zHFGyd9866OUljq49g</td>\n",
       "      <td>7lwe7n-Yc-V9E_HfLAeylg</td>\n",
       "      <td>3.0</td>\n",
       "    </tr>\n",
       "    <tr>\n",
       "      <th>1</th>\n",
       "      <td>8216</td>\n",
       "      <td>5GJ5aLTtTjGIiBz7i9GssQ</td>\n",
       "      <td>4_W5pstoN1166TGjjPOrMg</td>\n",
       "      <td>5.0</td>\n",
       "    </tr>\n",
       "    <tr>\n",
       "      <th>2</th>\n",
       "      <td>8611</td>\n",
       "      <td>-dnERQYQCDVZFMMuh7bBDg</td>\n",
       "      <td>XQWZQjC73fCTRGWnD18-Eg</td>\n",
       "      <td>3.0</td>\n",
       "    </tr>\n",
       "    <tr>\n",
       "      <th>3</th>\n",
       "      <td>11696</td>\n",
       "      <td>PV0U0arT_AUfjVBtrKfPSA</td>\n",
       "      <td>AlxnbBd2JNkozNvI0OvRLQ</td>\n",
       "      <td>5.0</td>\n",
       "    </tr>\n",
       "    <tr>\n",
       "      <th>4</th>\n",
       "      <td>12166</td>\n",
       "      <td>uxOjXmWuuEuHmF6rXFZfSw</td>\n",
       "      <td>4_W5pstoN1166TGjjPOrMg</td>\n",
       "      <td>4.0</td>\n",
       "    </tr>\n",
       "  </tbody>\n",
       "</table>\n",
       "</div>"
      ],
      "text/plain": [
       "   Unnamed: 0                 user_id             business_id  stars\n",
       "0        4267  mzL0zHFGyd9866OUljq49g  7lwe7n-Yc-V9E_HfLAeylg    3.0\n",
       "1        8216  5GJ5aLTtTjGIiBz7i9GssQ  4_W5pstoN1166TGjjPOrMg    5.0\n",
       "2        8611  -dnERQYQCDVZFMMuh7bBDg  XQWZQjC73fCTRGWnD18-Eg    3.0\n",
       "3       11696  PV0U0arT_AUfjVBtrKfPSA  AlxnbBd2JNkozNvI0OvRLQ    5.0\n",
       "4       12166  uxOjXmWuuEuHmF6rXFZfSw  4_W5pstoN1166TGjjPOrMg    4.0"
      ]
     },
     "execution_count": 37,
     "metadata": {},
     "output_type": "execute_result"
    }
   ],
   "source": [
    "print(df_test.shape)\n",
    "df_test.head()"
   ]
  },
  {
   "cell_type": "code",
   "execution_count": 38,
   "id": "0e858de7",
   "metadata": {},
   "outputs": [
    {
     "name": "stdout",
     "output_type": "stream",
     "text": [
      "0.8980835727077218\n"
     ]
    }
   ],
   "source": [
    "# for users\n",
    "rmse_user = math.sqrt(mean_squared_error(df_test['stars'], df_predictions['pred']))\n",
    "print(rmse_user)"
   ]
  },
  {
   "cell_type": "markdown",
   "id": "7e1daacb",
   "metadata": {},
   "source": [
    "Συμπέρασμα"
   ]
  },
  {
   "cell_type": "markdown",
   "id": "4a7b81c9",
   "metadata": {},
   "source": [
    "Παρατηρούμε πως με το value propagation έχουμε μια ποκλυ καλή τιμή για το mean squared error"
   ]
  },
  {
   "cell_type": "markdown",
   "id": "9e506dc0",
   "metadata": {},
   "source": [
    "# Step 4"
   ]
  },
  {
   "cell_type": "code",
   "execution_count": 50,
   "id": "256f257e",
   "metadata": {},
   "outputs": [
    {
     "name": "stdout",
     "output_type": "stream",
     "text": [
      "(96594, 4)\n"
     ]
    },
    {
     "data": {
      "text/plain": [
       "(797, 4)"
      ]
     },
     "execution_count": 50,
     "metadata": {},
     "output_type": "execute_result"
    }
   ],
   "source": [
    "print(df_train.shape)\n",
    "df_test.shape"
   ]
  },
  {
   "cell_type": "markdown",
   "id": "357578e8",
   "metadata": {},
   "source": [
    "# UA"
   ]
  },
  {
   "cell_type": "code",
   "execution_count": 47,
   "id": "7525d143",
   "metadata": {},
   "outputs": [
    {
     "name": "stdout",
     "output_type": "stream",
     "text": [
      "0.9012981678615509\n"
     ]
    }
   ],
   "source": [
    "# User Average (UA) - mesh bathmologia kathe xrhsth\n",
    "df_user_avg = df_train.groupby('user_id').mean().reset_index()\n",
    "# inner or right same \n",
    "df_user_m = pd.merge(df_user_avg,df_test, on='user_id', how='right') \n",
    "rmse_user = math.sqrt(mean_squared_error(df_user_m['stars_x'], df_user_m['stars_y']))\n",
    "print(rmse_user)"
   ]
  },
  {
   "cell_type": "markdown",
   "id": "40db000c",
   "metadata": {},
   "source": [
    "# BA"
   ]
  },
  {
   "cell_type": "code",
   "execution_count": 53,
   "id": "464e66c1",
   "metadata": {},
   "outputs": [
    {
     "name": "stdout",
     "output_type": "stream",
     "text": [
      "0.8698495174282991\n"
     ]
    }
   ],
   "source": [
    "# Business Average (BA) - mesh bathmologia kathe epixeirhshs\n",
    "df_bus_avg = df_train.groupby('business_id').mean().reset_index()\n",
    "# inner or right same \n",
    "df_bus_m = pd.merge(df_bus_avg,df_test, on='business_id', how='right')\n",
    "rmse_business = math.sqrt(mean_squared_error(df_bus_m['stars_x'], df_bus_m['stars_y']))\n",
    "print(rmse_business)"
   ]
  },
  {
   "cell_type": "markdown",
   "id": "b8977272",
   "metadata": {},
   "source": [
    "Συμπέρασμα"
   ]
  },
  {
   "cell_type": "markdown",
   "id": "f7217c97",
   "metadata": {},
   "source": [
    "Παρατηρούμε πως για αυτό το dataset παίρνουμε πάλι πολύ καλές τιμές από τους αλγορίθμους UA και BA."
   ]
  }
 ],
 "metadata": {
  "kernelspec": {
   "display_name": "Python 3 (ipykernel)",
   "language": "python",
   "name": "python3"
  },
  "language_info": {
   "codemirror_mode": {
    "name": "ipython",
    "version": 3
   },
   "file_extension": ".py",
   "mimetype": "text/x-python",
   "name": "python",
   "nbconvert_exporter": "python",
   "pygments_lexer": "ipython3",
   "version": "3.9.13"
  }
 },
 "nbformat": 4,
 "nbformat_minor": 5
}
